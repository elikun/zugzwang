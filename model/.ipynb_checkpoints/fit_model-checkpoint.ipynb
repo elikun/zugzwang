{
 "cells": [
  {
   "cell_type": "code",
   "execution_count": 1,
   "metadata": {},
   "outputs": [
    {
     "name": "stdout",
     "output_type": "stream",
     "text": [
      "tensorflow.__version__          = 2.3.0\n",
      "keras_preprocessing.__version__ = 1.1.2\n"
     ]
    }
   ],
   "source": [
    "# Import Python Modules\n",
    "import tensorflow as tf\n",
    "import keras_preprocessing\n",
    "from keras_preprocessing import image\n",
    "from keras_preprocessing.image import ImageDataGenerator\n",
    "\n",
    "print(\"tensorflow.__version__          = \" + tf.__version__)\n",
    "print(\"keras_preprocessing.__version__ = \" + keras_preprocessing.__version__)"
   ]
  },
  {
   "cell_type": "code",
   "execution_count": 2,
   "metadata": {
    "colab": {
     "base_uri": "https://localhost:8080/",
     "height": 1000
    },
    "colab_type": "code",
    "executionInfo": {
     "elapsed": 501569,
     "status": "ok",
     "timestamp": 1596196127152,
     "user": {
      "displayName": "Renneru Onkoi",
      "photoUrl": "https://lh3.googleusercontent.com/a-/AOh14Giee64h0enBygn5XskwcbfowYZnly_bmrAvEdcN=s64",
      "userId": "17454781918518068002"
     },
     "user_tz": -540
    },
    "id": "55FlE0kWJVTZ",
    "outputId": "bc726121-1cc2-4985-ea95-2d2e3ddd38bc"
   },
   "outputs": [
    {
     "name": "stdout",
     "output_type": "stream",
     "text": [
      "Found 1614 images belonging to 3 classes.\n",
      "Found 690 images belonging to 3 classes.\n",
      "Model: \"sequential\"\n",
      "_________________________________________________________________\n",
      "Layer (type)                 Output Shape              Param #   \n",
      "=================================================================\n",
      "conv2d (Conv2D)              (None, 48, 48, 32)        896       \n",
      "_________________________________________________________________\n",
      "max_pooling2d (MaxPooling2D) (None, 24, 24, 32)        0         \n",
      "_________________________________________________________________\n",
      "conv2d_1 (Conv2D)            (None, 22, 22, 32)        9248      \n",
      "_________________________________________________________________\n",
      "max_pooling2d_1 (MaxPooling2 (None, 11, 11, 32)        0         \n",
      "_________________________________________________________________\n",
      "flatten (Flatten)            (None, 3872)              0         \n",
      "_________________________________________________________________\n",
      "dropout (Dropout)            (None, 3872)              0         \n",
      "_________________________________________________________________\n",
      "dense (Dense)                (None, 64)                247872    \n",
      "_________________________________________________________________\n",
      "dense_1 (Dense)              (None, 3)                 195       \n",
      "=================================================================\n",
      "Total params: 258,211\n",
      "Trainable params: 258,211\n",
      "Non-trainable params: 0\n",
      "_________________________________________________________________\n",
      "Epoch 1/50\n",
      "33/33 - 39s - loss: 0.5969 - accuracy: 0.7546 - val_loss: 0.1271 - val_accuracy: 0.9884\n",
      "Epoch 2/50\n",
      "33/33 - 9s - loss: 0.0739 - accuracy: 0.9808 - val_loss: 0.0341 - val_accuracy: 0.9884\n",
      "Epoch 3/50\n",
      "33/33 - 11s - loss: 0.0474 - accuracy: 0.9839 - val_loss: 0.0375 - val_accuracy: 0.9928\n",
      "Epoch 4/50\n",
      "33/33 - 9s - loss: 0.0345 - accuracy: 0.9895 - val_loss: 0.0283 - val_accuracy: 0.9928\n",
      "Epoch 5/50\n",
      "33/33 - 9s - loss: 0.0191 - accuracy: 0.9950 - val_loss: 0.0192 - val_accuracy: 0.9928\n",
      "Epoch 6/50\n",
      "33/33 - 9s - loss: 0.0096 - accuracy: 0.9975 - val_loss: 0.0048 - val_accuracy: 0.9986\n",
      "Epoch 7/50\n",
      "33/33 - 9s - loss: 0.0107 - accuracy: 0.9963 - val_loss: 0.0084 - val_accuracy: 0.9986\n",
      "Epoch 8/50\n",
      "33/33 - 9s - loss: 0.0099 - accuracy: 0.9969 - val_loss: 0.0155 - val_accuracy: 0.9942\n",
      "Epoch 9/50\n",
      "33/33 - 9s - loss: 0.0072 - accuracy: 0.9975 - val_loss: 0.0138 - val_accuracy: 0.9957\n",
      "Epoch 10/50\n",
      "33/33 - 9s - loss: 0.0060 - accuracy: 0.9988 - val_loss: 0.0062 - val_accuracy: 0.9971\n",
      "Epoch 11/50\n",
      "33/33 - 9s - loss: 0.0024 - accuracy: 1.0000 - val_loss: 0.0040 - val_accuracy: 0.9986\n",
      "Epoch 12/50\n",
      "33/33 - 9s - loss: 0.0057 - accuracy: 0.9981 - val_loss: 0.0036 - val_accuracy: 0.9971\n",
      "Epoch 13/50\n",
      "33/33 - 9s - loss: 0.0037 - accuracy: 0.9988 - val_loss: 0.0012 - val_accuracy: 1.0000\n",
      "Epoch 14/50\n",
      "33/33 - 10s - loss: 0.0056 - accuracy: 0.9981 - val_loss: 0.0022 - val_accuracy: 1.0000\n",
      "Epoch 15/50\n",
      "33/33 - 9s - loss: 0.0095 - accuracy: 0.9975 - val_loss: 0.0074 - val_accuracy: 0.9957\n",
      "Epoch 16/50\n",
      "33/33 - 10s - loss: 0.0012 - accuracy: 1.0000 - val_loss: 0.0014 - val_accuracy: 1.0000\n",
      "Epoch 17/50\n",
      "33/33 - 10s - loss: 5.8328e-04 - accuracy: 1.0000 - val_loss: 8.9292e-04 - val_accuracy: 1.0000\n",
      "Epoch 18/50\n",
      "33/33 - 10s - loss: 4.8721e-04 - accuracy: 1.0000 - val_loss: 6.5860e-04 - val_accuracy: 1.0000\n",
      "Epoch 19/50\n",
      "33/33 - 10s - loss: 3.0637e-04 - accuracy: 1.0000 - val_loss: 9.8195e-04 - val_accuracy: 1.0000\n",
      "Epoch 20/50\n",
      "33/33 - 13s - loss: 2.8987e-04 - accuracy: 1.0000 - val_loss: 7.8274e-04 - val_accuracy: 1.0000\n",
      "Epoch 21/50\n",
      "33/33 - 10s - loss: 2.4669e-04 - accuracy: 1.0000 - val_loss: 9.6208e-04 - val_accuracy: 1.0000\n",
      "Epoch 22/50\n",
      "33/33 - 10s - loss: 2.6715e-04 - accuracy: 1.0000 - val_loss: 6.5087e-04 - val_accuracy: 1.0000\n",
      "Epoch 23/50\n",
      "33/33 - 9s - loss: 2.7384e-04 - accuracy: 1.0000 - val_loss: 5.1882e-04 - val_accuracy: 1.0000\n",
      "Epoch 24/50\n",
      "33/33 - 9s - loss: 1.7056e-04 - accuracy: 1.0000 - val_loss: 0.0010 - val_accuracy: 1.0000\n",
      "Epoch 25/50\n",
      "33/33 - 10s - loss: 1.3670e-04 - accuracy: 1.0000 - val_loss: 3.7779e-04 - val_accuracy: 1.0000\n",
      "Epoch 26/50\n",
      "33/33 - 10s - loss: 1.6501e-04 - accuracy: 1.0000 - val_loss: 3.6257e-04 - val_accuracy: 1.0000\n",
      "Epoch 27/50\n",
      "33/33 - 10s - loss: 1.8408e-04 - accuracy: 1.0000 - val_loss: 3.8455e-04 - val_accuracy: 1.0000\n",
      "Epoch 28/50\n",
      "33/33 - 11s - loss: 1.9396e-04 - accuracy: 1.0000 - val_loss: 3.7978e-04 - val_accuracy: 1.0000\n",
      "Epoch 29/50\n",
      "33/33 - 13s - loss: 1.3925e-04 - accuracy: 1.0000 - val_loss: 4.5199e-04 - val_accuracy: 1.0000\n",
      "Epoch 30/50\n",
      "33/33 - 11s - loss: 1.3756e-04 - accuracy: 1.0000 - val_loss: 2.6174e-04 - val_accuracy: 1.0000\n",
      "Epoch 31/50\n",
      "33/33 - 10s - loss: 7.3521e-05 - accuracy: 1.0000 - val_loss: 3.4891e-04 - val_accuracy: 1.0000\n",
      "Epoch 32/50\n",
      "33/33 - 10s - loss: 5.4674e-04 - accuracy: 1.0000 - val_loss: 1.8413e-04 - val_accuracy: 1.0000\n",
      "Epoch 33/50\n",
      "33/33 - 11s - loss: 2.5164e-04 - accuracy: 1.0000 - val_loss: 4.7800e-04 - val_accuracy: 1.0000\n",
      "Epoch 34/50\n",
      "33/33 - 11s - loss: 1.3381e-04 - accuracy: 1.0000 - val_loss: 7.2268e-04 - val_accuracy: 1.0000\n",
      "Epoch 35/50\n",
      "33/33 - 10s - loss: 2.3896e-04 - accuracy: 1.0000 - val_loss: 0.0075 - val_accuracy: 0.9971\n",
      "Epoch 36/50\n",
      "33/33 - 11s - loss: 0.0063 - accuracy: 0.9981 - val_loss: 0.0488 - val_accuracy: 0.9841\n",
      "Epoch 37/50\n",
      "33/33 - 10s - loss: 0.1099 - accuracy: 0.9721 - val_loss: 0.0245 - val_accuracy: 0.9957\n",
      "Epoch 38/50\n",
      "33/33 - 10s - loss: 0.0123 - accuracy: 0.9957 - val_loss: 0.0160 - val_accuracy: 0.9928\n",
      "Epoch 39/50\n",
      "33/33 - 10s - loss: 0.0056 - accuracy: 0.9975 - val_loss: 0.0087 - val_accuracy: 0.9971\n",
      "Epoch 40/50\n",
      "33/33 - 10s - loss: 0.0073 - accuracy: 0.9981 - val_loss: 0.0034 - val_accuracy: 0.9986\n",
      "Epoch 41/50\n",
      "33/33 - 10s - loss: 0.0051 - accuracy: 0.9975 - val_loss: 0.0031 - val_accuracy: 0.9986\n",
      "Epoch 42/50\n",
      "33/33 - 10s - loss: 0.0016 - accuracy: 0.9994 - val_loss: 0.0029 - val_accuracy: 0.9986\n",
      "Epoch 43/50\n",
      "33/33 - 10s - loss: 0.0019 - accuracy: 0.9988 - val_loss: 0.0064 - val_accuracy: 0.9986\n",
      "Epoch 44/50\n",
      "33/33 - 10s - loss: 0.0016 - accuracy: 0.9994 - val_loss: 0.0013 - val_accuracy: 1.0000\n",
      "Epoch 45/50\n",
      "33/33 - 10s - loss: 3.1420e-04 - accuracy: 1.0000 - val_loss: 0.0021 - val_accuracy: 0.9986\n",
      "Epoch 46/50\n",
      "33/33 - 11s - loss: 0.0027 - accuracy: 0.9994 - val_loss: 0.0049 - val_accuracy: 0.9986\n",
      "Epoch 47/50\n",
      "33/33 - 10s - loss: 9.2790e-04 - accuracy: 1.0000 - val_loss: 0.0017 - val_accuracy: 1.0000\n",
      "Epoch 48/50\n",
      "33/33 - 10s - loss: 5.8613e-04 - accuracy: 1.0000 - val_loss: 0.0012 - val_accuracy: 1.0000\n",
      "Epoch 49/50\n",
      "33/33 - 10s - loss: 1.4618e-04 - accuracy: 1.0000 - val_loss: 0.0011 - val_accuracy: 1.0000\n",
      "Epoch 50/50\n",
      "33/33 - 10s - loss: 3.2224e-04 - accuracy: 1.0000 - val_loss: 5.9481e-04 - val_accuracy: 1.0000\n",
      "WARNING:tensorflow:From /usr/local/lib/python3.6/dist-packages/tensorflow/python/training/tracking/tracking.py:111: Model.state_updates (from tensorflow.python.keras.engine.training) is deprecated and will be removed in a future version.\n",
      "Instructions for updating:\n",
      "This property should not be used in TensorFlow 2.0, as updates are applied automatically.\n",
      "WARNING:tensorflow:From /usr/local/lib/python3.6/dist-packages/tensorflow/python/training/tracking/tracking.py:111: Layer.updates (from tensorflow.python.keras.engine.base_layer) is deprecated and will be removed in a future version.\n",
      "Instructions for updating:\n",
      "This property should not be used in TensorFlow 2.0, as updates are applied automatically.\n",
      "INFO:tensorflow:Assets written to: /tmp/tmppqwalchu/assets\n"
     ]
    }
   ],
   "source": [
    "# Training Set\n",
    "TRAINING_DIR = \"/tf/zugzwang/model/training_set/\"\n",
    "training_datagen = ImageDataGenerator(rescale = 1./255,\n",
    "                                      #rotation_range=30,\n",
    "                                      #width_shift_range=0.1,\n",
    "                                      #height_shift_range=0.1,\n",
    "                                      #shear_range=0.1,\n",
    "                                      #zoom_range=0.1,\n",
    "                                      #horizontal_flip=True,\n",
    "                                      #vertical_flip=True,\n",
    "                                      #fill_mode='nearest')\n",
    "                                     )\n",
    "train_generator = training_datagen.flow_from_directory(TRAINING_DIR,\n",
    "                                                       target_size=(50,50),\n",
    "                                                       class_mode='categorical',\n",
    "                                                       batch_size=50)\n",
    "\n",
    "# Validation Set\n",
    "VALIDATION_DIR = \"/tf/zugzwang/model/validation_set/\"\n",
    "validation_datagen = ImageDataGenerator(rescale = 1./255)\n",
    "validation_generator = validation_datagen.flow_from_directory(VALIDATION_DIR,\n",
    "                                                              target_size=(50,50),\n",
    "                                                              class_mode='categorical',\n",
    "                                                              batch_size=50)\n",
    "\n",
    "# Define callback functions\n",
    "class myCallback(tf.keras.callbacks.Callback):\n",
    "  def on_epoch_end(self, epoch, logs={}):\n",
    "    if(logs.get('accuracy') > 0.9950):\n",
    "      print(\"\\nReached 99.50% accuracy so cancelling training!\")\n",
    "      self.model.stop_training = True\n",
    "\n",
    "myCallbacksList = [myCallback()]\n",
    "\n",
    "# Define model\n",
    "model = tf.keras.models.Sequential([\n",
    "    # Input shape = 50x50 RGB color image\n",
    "    # 1st Convolutional Neural Network (CNN)\n",
    "    tf.keras.layers.Conv2D(32, (3,3), activation=tf.nn.relu, input_shape=(50, 50, 3)),\n",
    "    tf.keras.layers.MaxPooling2D(2, 2),\n",
    "\n",
    "    # 2nd Convolutional Neural Network (CNN)\n",
    "    tf.keras.layers.Conv2D(32, (3,3), activation=tf.nn.relu),\n",
    "    tf.keras.layers.MaxPooling2D(2,2),\n",
    "\n",
    "    # 3rd Convolutional Neural Network (CNN)\n",
    "    #tf.keras.layers.Conv2D(128, (3,3), activation=tf.nn.relu),\n",
    "    #tf.keras.layers.MaxPooling2D(2,2),\n",
    "\n",
    "    # 4th Convolutional Neural Network (CNN)\n",
    "    #tf.keras.layers.Conv2D(128, (3,3), activation=tf.nn.relu),\n",
    "    #tf.keras.layers.MaxPooling2D(2,2),\n",
    "\n",
    "    # Flatten the results to feed into a Dense Neural Network (DNN)\n",
    "    tf.keras.layers.Flatten(),\n",
    "    tf.keras.layers.Dropout(0.5),\n",
    "\n",
    "    # 512-neuron DNN\n",
    "    #tf.keras.layers.Dense(512, activation=tf.nn.relu),\n",
    "    tf.keras.layers.Dense(64, activation=tf.nn.relu),\n",
    "\n",
    "    # Softmax Output Layer (3 categories)\n",
    "    tf.keras.layers.Dense(3, activation=tf.nn.softmax)\n",
    "])\n",
    "\n",
    "model.summary()\n",
    "model.compile(loss=tf.keras.losses.CategoricalCrossentropy(), optimizer=tf.keras.optimizers.Adam(), metrics=['accuracy'])\n",
    "'''history = model.fit(x=train_generator,\n",
    "                    epochs=1000,\n",
    "                    validation_data=validation_generator,\n",
    "                    verbose=2,\n",
    "                    callbacks=myCallbacksList)'''\n",
    "history = model.fit(x=train_generator,\n",
    "                    epochs=50,\n",
    "                    validation_data=validation_generator,\n",
    "                    verbose=2)\n",
    "\n",
    "# Store trained TF model to h5 file\n",
    "model_h5 = \"/tf/zugzwang/model/model.h5\"\n",
    "model.save(model_h5)\n",
    "\n",
    "# Convert the TF model to TF Lite format\n",
    "converter = tf.lite.TFLiteConverter.from_keras_model(model)\n",
    "model_tflite = converter.convert()\n",
    "\n",
    "# Save the TF Lite model\n",
    "with tf.io.gfile.GFile(\"/tf/zugzwang/model/model.tflite\", 'wb') as f:\n",
    "  f.write(model_tflite)"
   ]
  },
  {
   "cell_type": "code",
   "execution_count": 3,
   "metadata": {
    "colab": {
     "base_uri": "https://localhost:8080/",
     "height": 298
    },
    "colab_type": "code",
    "executionInfo": {
     "elapsed": 501572,
     "status": "ok",
     "timestamp": 1596196127179,
     "user": {
      "displayName": "Renneru Onkoi",
      "photoUrl": "https://lh3.googleusercontent.com/a-/AOh14Giee64h0enBygn5XskwcbfowYZnly_bmrAvEdcN=s64",
      "userId": "17454781918518068002"
     },
     "user_tz": -540
    },
    "id": "z_8r2hZ1Jk34",
    "outputId": "03af3b49-cd5d-41b8-bbe6-1cc01b1814a5"
   },
   "outputs": [
    {
     "name": "stdout",
     "output_type": "stream",
     "text": [
      "matplotlib.__version__ = 3.3.0\n"
     ]
    },
    {
     "data": {
      "image/png": "[encoded data removed]",
      "text/plain": [
       "<Figure size 432x288 with 1 Axes>"
      ]
     },
     "metadata": {
      "needs_background": "light"
     },
     "output_type": "display_data"
    },
    {
     "data": {
      "text/plain": [
       "<Figure size 432x288 with 0 Axes>"
      ]
     },
     "metadata": {},
     "output_type": "display_data"
    }
   ],
   "source": [
    "# Plot Training vs. Validation accuracy with respect to number of epochs\n",
    "import matplotlib\n",
    "import matplotlib.pyplot as plt\n",
    "print(\"matplotlib.__version__ = \" + matplotlib.__version__)\n",
    "\n",
    "acc = history.history['accuracy']\n",
    "val_acc = history.history['val_accuracy']\n",
    "\n",
    "epochs = range(len(acc))\n",
    "\n",
    "plt.plot(epochs, acc, 'r', label='Training accuracy')\n",
    "plt.plot(epochs, val_acc, 'b', label='Validation accuracy')\n",
    "plt.title('Training and validation accuracy')\n",
    "plt.legend(loc=0)\n",
    "plt.figure()\n",
    "\n",
    "plt.show()"
   ]
  },
  {
   "cell_type": "code",
   "execution_count": 4,
   "metadata": {
    "colab": {
     "base_uri": "https://localhost:8080/",
     "height": 298
    },
    "colab_type": "code",
    "executionInfo": {
     "elapsed": 501754,
     "status": "ok",
     "timestamp": 1596196127399,
     "user": {
      "displayName": "Renneru Onkoi",
      "photoUrl": "https://lh3.googleusercontent.com/a-/AOh14Giee64h0enBygn5XskwcbfowYZnly_bmrAvEdcN=s64",
      "userId": "17454781918518068002"
     },
     "user_tz": -540
    },
    "id": "DSmOMDPCwecx",
    "outputId": "09fed199-c070-49c6-ad60-c316d00a420b"
   },
   "outputs": [
    {
     "data": {
      "image/png": "[encoded data removed]",
      "text/plain": [
       "<Figure size 432x288 with 1 Axes>"
      ]
     },
     "metadata": {
      "needs_background": "light"
     },
     "output_type": "display_data"
    },
    {
     "data": {
      "text/plain": [
       "<Figure size 432x288 with 0 Axes>"
      ]
     },
     "metadata": {},
     "output_type": "display_data"
    }
   ],
   "source": [
    "# Plot Training vs. Validation loss with respect to number of epochs\n",
    "import matplotlib.pyplot as plt\n",
    "loss = history.history['loss']\n",
    "val_loss = history.history['val_loss']\n",
    "\n",
    "epochs = range(len(loss))\n",
    "\n",
    "plt.plot(epochs, loss, 'r', label='Training loss')\n",
    "plt.plot(epochs, val_loss, 'b', label='Validation loss')\n",
    "plt.title('Training and validation loss')\n",
    "plt.legend(loc=0)\n",
    "plt.figure()\n",
    "\n",
    "plt.show()"
   ]
  },
  {
   "cell_type": "code",
   "execution_count": 9,
   "metadata": {
    "colab": {
     "base_uri": "https://localhost:8080/",
     "height": 85
    },
    "colab_type": "code",
    "executionInfo": {
     "elapsed": 502238,
     "status": "ok",
     "timestamp": 1596196127901,
     "user": {
      "displayName": "Renneru Onkoi",
      "photoUrl": "https://lh3.googleusercontent.com/a-/AOh14Giee64h0enBygn5XskwcbfowYZnly_bmrAvEdcN=s64",
      "userId": "17454781918518068002"
     },
     "user_tz": -540
    },
    "id": "o5O5AiYaTVUV",
    "outputId": "fe7585db-2086-4e6e-9691-bd5072eacf91"
   },
   "outputs": [
    {
     "name": "stdout",
     "output_type": "stream",
     "text": [
      "WARNING:tensorflow:5 out of the last 13 calls to <function Model.make_predict_function.<locals>.predict_function at 0x7f4f86710ae8> triggered tf.function retracing. Tracing is expensive and the excessive number of tracings could be due to (1) creating @tf.function repeatedly in a loop, (2) passing tensors with different shapes, (3) passing Python objects instead of tensors. For (1), please define your @tf.function outside of the loop. For (2), @tf.function has experimental_relax_shapes=True option that relaxes argument shapes that can avoid unnecessary retracing. For (3), please refer to https://www.tensorflow.org/tutorials/customization/performance#python_or_tensor_args and https://www.tensorflow.org/api_docs/python/tf/function for  more details.\n"
     ]
    },
    {
     "name": "stderr",
     "output_type": "stream",
     "text": [
      "WARNING:tensorflow:5 out of the last 13 calls to <function Model.make_predict_function.<locals>.predict_function at 0x7f4f86710ae8> triggered tf.function retracing. Tracing is expensive and the excessive number of tracings could be due to (1) creating @tf.function repeatedly in a loop, (2) passing tensors with different shapes, (3) passing Python objects instead of tensors. For (1), please define your @tf.function outside of the loop. For (2), @tf.function has experimental_relax_shapes=True option that relaxes argument shapes that can avoid unnecessary retracing. For (3), please refer to https://www.tensorflow.org/tutorials/customization/performance#python_or_tensor_args and https://www.tensorflow.org/api_docs/python/tf/function for  more details.\n"
     ]
    },
    {
     "name": "stdout",
     "output_type": "stream",
     "text": [
      "[[1. 0. 0.]]\n",
      "[[0. 1. 0.]]\n",
      "[[0. 0. 1.]]\n"
     ]
    }
   ],
   "source": [
    "# Load model information\n",
    "loaded_model = tf.keras.models.load_model(model_h5)\n",
    "\n",
    "# Sample predictions\n",
    "import numpy as np\n",
    "from keras_preprocessing import image\n",
    "\n",
    "# Predicting black pieces\n",
    "img = image.load_img(\"/tf/zugzwang/model/validation_set/black/1-2-1.jpg\", target_size=(50, 50))\n",
    "x = image.img_to_array(img)\n",
    "x = np.expand_dims(x, axis=0)\n",
    "new_input = np.vstack([x])\n",
    "prediction = np.round(loaded_model.predict(new_input))\n",
    "print(prediction) # [[1. 0. 0.]]\n",
    "\n",
    "# Predicting empty pieces\n",
    "#img = image.load_img(\"/tf/zugzwang/model/validation_set/none/36-2-7.jpg\", target_size=(50, 50))\n",
    "img = image.load_img(\"/tf/zugzwang/model/validation_set/none/46-2-2.jpg\", target_size=(50, 50))\n",
    "x = image.img_to_array(img)\n",
    "x = np.expand_dims(x, axis=0)\n",
    "new_input = np.vstack([x])\n",
    "prediction = np.round(loaded_model.predict(new_input))\n",
    "print(prediction) # [[0. 1. 0.]]\n",
    "\n",
    "# Predicting white pieces\n",
    "img = image.load_img(\"/tf/zugzwang/model/validation_set/white/1-2-6.jpg\", target_size=(50, 50))\n",
    "x = image.img_to_array(img)\n",
    "x = np.expand_dims(x, axis=0)\n",
    "new_input = np.vstack([x])\n",
    "prediction = np.round(loaded_model.predict(new_input))\n",
    "print(prediction) # [[0. 0. 1.]]"
   ]
  },
  {
   "cell_type": "code",
   "execution_count": null,
   "metadata": {
    "colab": {},
    "colab_type": "code",
    "executionInfo": {
     "elapsed": 502231,
     "status": "ok",
     "timestamp": 1596196127904,
     "user": {
      "displayName": "Renneru Onkoi",
      "photoUrl": "https://lh3.googleusercontent.com/a-/AOh14Giee64h0enBygn5XskwcbfowYZnly_bmrAvEdcN=s64",
      "userId": "17454781918518068002"
     },
     "user_tz": -540
    },
    "id": "QYGR0bWcUGEG"
   },
   "outputs": [],
   "source": []
  }
 ],
 "metadata": {
  "colab": {
   "authorship_tag": "ABX9TyOfpxxh+M/DGSEWaOKRBUqy",
   "collapsed_sections": [],
   "name": "fit_model.ipynb",
   "provenance": []
  },
  "kernelspec": {
   "display_name": "Python 3",
   "language": "python",
   "name": "python3"
  },
  "language_info": {
   "codemirror_mode": {
    "name": "ipython",
    "version": 3
   },
   "file_extension": ".py",
   "mimetype": "text/x-python",
   "name": "python",
   "nbconvert_exporter": "python",
   "pygments_lexer": "ipython3",
   "version": "3.6.9"
  }
 },
 "nbformat": 4,
 "nbformat_minor": 1
}
