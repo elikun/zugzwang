{
 "cells": [
  {
   "cell_type": "code",
   "execution_count": 1,
   "metadata": {},
   "outputs": [
    {
     "name": "stdout",
     "output_type": "stream",
     "text": [
      "tensorflow.__version__          = 2.3.0\n",
      "numpy.__version__               = 1.18.5\n",
      "keras_preprocessing.__version__ = 1.1.2\n"
     ]
    }
   ],
   "source": [
    "# Import Python modules\n",
    "import tensorflow as tf\n",
    "import keras_preprocessing\n",
    "from keras_preprocessing import image\n",
    "from keras_preprocessing.image import ImageDataGenerator\n",
    "\n",
    "# Print Python module versions\n",
    "print(\"tensorflow.__version__          = \" + tf.__version__)\n",
    "print(\"keras_preprocessing.__version__ = \" + keras_preprocessing.__version__)"
   ]
  },
  {
   "cell_type": "code",
   "execution_count": 2,
   "metadata": {},
   "outputs": [
    {
     "name": "stdout",
     "output_type": "stream",
     "text": [
      "Found 1614 images belonging to 3 classes.\n",
      "Found 690 images belonging to 3 classes.\n"
     ]
    }
   ],
   "source": [
    "# Load Training Set\n",
    "TRAINING_DIR = \"/tf/zugzwang/model/training_set/\"\n",
    "training_datagen = ImageDataGenerator(rescale = 1./255)\n",
    "train_generator = training_datagen.flow_from_directory(TRAINING_DIR,\n",
    "                                                       target_size=(50,50),\n",
    "                                                       class_mode='categorical',\n",
    "                                                       batch_size=50)\n",
    "\n",
    "# Load Validation Set\n",
    "VALIDATION_DIR = \"/tf/zugzwang/model/validation_set/\"\n",
    "validation_datagen = ImageDataGenerator(rescale = 1./255)\n",
    "validation_generator = validation_datagen.flow_from_directory(VALIDATION_DIR,\n",
    "                                                              target_size=(50,50),\n",
    "                                                              class_mode='categorical',\n",
    "                                                              batch_size=50)"
   ]
  },
  {
   "cell_type": "code",
   "execution_count": 3,
   "metadata": {
    "colab": {
     "base_uri": "https://localhost:8080/",
     "height": 1000
    },
    "colab_type": "code",
    "executionInfo": {
     "elapsed": 501569,
     "status": "ok",
     "timestamp": 1596196127152,
     "user": {
      "displayName": "Renneru Onkoi",
      "photoUrl": "https://lh3.googleusercontent.com/a-/AOh14Giee64h0enBygn5XskwcbfowYZnly_bmrAvEdcN=s64",
      "userId": "17454781918518068002"
     },
     "user_tz": -540
    },
    "id": "55FlE0kWJVTZ",
    "outputId": "bc726121-1cc2-4985-ea95-2d2e3ddd38bc"
   },
   "outputs": [
    {
     "name": "stdout",
     "output_type": "stream",
     "text": [
      "Model: \"sequential\"\n",
      "_________________________________________________________________\n",
      "Layer (type)                 Output Shape              Param #   \n",
      "=================================================================\n",
      "conv2d (Conv2D)              (None, 48, 48, 16)        448       \n",
      "_________________________________________________________________\n",
      "max_pooling2d (MaxPooling2D) (None, 24, 24, 16)        0         \n",
      "_________________________________________________________________\n",
      "conv2d_1 (Conv2D)            (None, 22, 22, 16)        2320      \n",
      "_________________________________________________________________\n",
      "max_pooling2d_1 (MaxPooling2 (None, 11, 11, 16)        0         \n",
      "_________________________________________________________________\n",
      "conv2d_2 (Conv2D)            (None, 9, 9, 32)          4640      \n",
      "_________________________________________________________________\n",
      "max_pooling2d_2 (MaxPooling2 (None, 4, 4, 32)          0         \n",
      "_________________________________________________________________\n",
      "flatten (Flatten)            (None, 512)               0         \n",
      "_________________________________________________________________\n",
      "dropout (Dropout)            (None, 512)               0         \n",
      "_________________________________________________________________\n",
      "dense (Dense)                (None, 64)                32832     \n",
      "_________________________________________________________________\n",
      "dense_1 (Dense)              (None, 3)                 195       \n",
      "=================================================================\n",
      "Total params: 40,435\n",
      "Trainable params: 40,435\n",
      "Non-trainable params: 0\n",
      "_________________________________________________________________\n",
      "Epoch 1/100\n",
      "33/33 - 8s - loss: 0.7613 - accuracy: 0.6326 - val_loss: 0.3535 - val_accuracy: 0.6565\n",
      "Epoch 2/100\n",
      "33/33 - 8s - loss: 0.2062 - accuracy: 0.9281 - val_loss: 0.0632 - val_accuracy: 0.9928\n",
      "Epoch 3/100\n",
      "33/33 - 8s - loss: 0.0819 - accuracy: 0.9752 - val_loss: 0.0446 - val_accuracy: 0.9797\n",
      "Epoch 4/100\n",
      "33/33 - 8s - loss: 0.0494 - accuracy: 0.9857 - val_loss: 0.0198 - val_accuracy: 0.9928\n",
      "Epoch 5/100\n",
      "33/33 - 8s - loss: 0.0353 - accuracy: 0.9895 - val_loss: 0.0266 - val_accuracy: 0.9899\n",
      "Epoch 6/100\n",
      "33/33 - 9s - loss: 0.0339 - accuracy: 0.9926 - val_loss: 0.0102 - val_accuracy: 0.9986\n",
      "Epoch 7/100\n",
      "33/33 - 11s - loss: 0.0152 - accuracy: 0.9963 - val_loss: 0.0066 - val_accuracy: 0.9986\n",
      "Epoch 8/100\n",
      "33/33 - 10s - loss: 0.0166 - accuracy: 0.9938 - val_loss: 0.0057 - val_accuracy: 0.9986\n",
      "Epoch 9/100\n",
      "33/33 - 11s - loss: 0.0138 - accuracy: 0.9969 - val_loss: 0.0061 - val_accuracy: 0.9986\n",
      "Epoch 10/100\n",
      "33/33 - 10s - loss: 0.0110 - accuracy: 0.9969 - val_loss: 0.0110 - val_accuracy: 0.9971\n",
      "Epoch 11/100\n",
      "33/33 - 10s - loss: 0.0212 - accuracy: 0.9938 - val_loss: 0.0088 - val_accuracy: 0.9986\n",
      "Epoch 12/100\n",
      "33/33 - 10s - loss: 0.0130 - accuracy: 0.9957 - val_loss: 0.0086 - val_accuracy: 0.9986\n",
      "Epoch 13/100\n",
      "\n",
      "Reached 99.75% accuracy. Training completed!\n",
      "33/33 - 9s - loss: 0.0084 - accuracy: 0.9975 - val_loss: 0.0083 - val_accuracy: 0.9986\n"
     ]
    }
   ],
   "source": [
    "# Define model\n",
    "model = tf.keras.models.Sequential([\n",
    "    # Input shape = 50x50 RGB color image\n",
    "    # 1st Convolutional Neural Network (CNN)\n",
    "    tf.keras.layers.Conv2D(16, (3, 3), activation=tf.nn.relu, input_shape=(50, 50, 3)),\n",
    "    tf.keras.layers.MaxPooling2D(2, 2),\n",
    "\n",
    "    # 2nd Convolutional Neural Network (CNN)\n",
    "    tf.keras.layers.Conv2D(16, (3, 3), activation=tf.nn.relu),\n",
    "    tf.keras.layers.MaxPooling2D(2, 2),\n",
    "\n",
    "    # 3rd Convolutional Neural Network (CNN)\n",
    "    tf.keras.layers.Conv2D(32, (3, 3), activation=tf.nn.relu),\n",
    "    tf.keras.layers.MaxPooling2D(2, 2),\n",
    "\n",
    "    # Flatten the results to feed into a Dense Neural Network (DNN)\n",
    "    tf.keras.layers.Flatten(),\n",
    "    tf.keras.layers.Dropout(0.5),\n",
    "\n",
    "    # 64-neuron Dense Neural Network (DNN)\n",
    "    tf.keras.layers.Dense(64, activation=tf.nn.relu),\n",
    "\n",
    "    # Softmax Output Layer (3 categories)\n",
    "    tf.keras.layers.Dense(3, activation=tf.nn.softmax)\n",
    "])\n",
    "\n",
    "# Print model summary\n",
    "model.summary()\n",
    "\n",
    "# Compile model\n",
    "model.compile(loss=tf.keras.losses.CategoricalCrossentropy(),\n",
    "              optimizer=tf.keras.optimizers.Adam(),\n",
    "              metrics=['accuracy'])\n",
    "\n",
    "# Define callback function\n",
    "class myCallback(tf.keras.callbacks.Callback):\n",
    "  def on_epoch_end(self, epoch, logs={}):\n",
    "    if(logs.get('accuracy') >= 0.9975):\n",
    "      print(\"\\nReached 99.75% accuracy. Training completed!\")\n",
    "      self.model.stop_training = True\n",
    "myCallbacksList = [myCallback()]\n",
    "\n",
    "# Train the defined model\n",
    "history = model.fit(x=train_generator,\n",
    "                    epochs=100,\n",
    "                    validation_data=validation_generator,\n",
    "                    verbose=2,\n",
    "                    callbacks=myCallbacksList)"
   ]
  },
  {
   "cell_type": "code",
   "execution_count": 4,
   "metadata": {},
   "outputs": [
    {
     "name": "stdout",
     "output_type": "stream",
     "text": [
      "WARNING:tensorflow:From /usr/local/lib/python3.6/dist-packages/tensorflow/python/training/tracking/tracking.py:111: Model.state_updates (from tensorflow.python.keras.engine.training) is deprecated and will be removed in a future version.\n",
      "Instructions for updating:\n",
      "This property should not be used in TensorFlow 2.0, as updates are applied automatically.\n",
      "WARNING:tensorflow:From /usr/local/lib/python3.6/dist-packages/tensorflow/python/training/tracking/tracking.py:111: Layer.updates (from tensorflow.python.keras.engine.base_layer) is deprecated and will be removed in a future version.\n",
      "Instructions for updating:\n",
      "This property should not be used in TensorFlow 2.0, as updates are applied automatically.\n",
      "INFO:tensorflow:Assets written to: /tmp/tmpqxsjiq4v/assets\n"
     ]
    }
   ],
   "source": [
    "# Store trained TF model to h5 file\n",
    "model_h5 = \"/tf/zugzwang/model/model.h5\"\n",
    "model.save(model_h5)\n",
    "\n",
    "# Convert the TF model to TF Lite format\n",
    "converter = tf.lite.TFLiteConverter.from_keras_model(model)\n",
    "model_tflite = converter.convert()\n",
    "\n",
    "# Save the TF Lite model\n",
    "with tf.io.gfile.GFile(\"/tf/zugzwang/model/model.tflite\", 'wb') as f:\n",
    "  f.write(model_tflite)"
   ]
  },
  {
   "cell_type": "code",
   "execution_count": 5,
   "metadata": {
    "colab": {
     "base_uri": "https://localhost:8080/",
     "height": 298
    },
    "colab_type": "code",
    "executionInfo": {
     "elapsed": 501572,
     "status": "ok",
     "timestamp": 1596196127179,
     "user": {
      "displayName": "Renneru Onkoi",
      "photoUrl": "https://lh3.googleusercontent.com/a-/AOh14Giee64h0enBygn5XskwcbfowYZnly_bmrAvEdcN=s64",
      "userId": "17454781918518068002"
     },
     "user_tz": -540
    },
    "id": "z_8r2hZ1Jk34",
    "outputId": "03af3b49-cd5d-41b8-bbe6-1cc01b1814a5"
   },
   "outputs": [
    {
     "name": "stdout",
     "output_type": "stream",
     "text": [
      "matplotlib.__version__ = 3.3.0\n"
     ]
    },
    {
     "data": {
      "image/png": "[encoded data removed]",
      "text/plain": [
       "<Figure size 432x288 with 1 Axes>"
      ]
     },
     "metadata": {
      "needs_background": "light"
     },
     "output_type": "display_data"
    },
    {
     "data": {
      "text/plain": [
       "<Figure size 432x288 with 0 Axes>"
      ]
     },
     "metadata": {},
     "output_type": "display_data"
    }
   ],
   "source": [
    "# Plot Training vs. Validation Accuracy with respect to number of epochs\n",
    "import matplotlib\n",
    "import matplotlib.pyplot as plt\n",
    "print(\"matplotlib.__version__ = \" + matplotlib.__version__)\n",
    "\n",
    "# Y-axis\n",
    "acc = history.history['accuracy']\n",
    "val_acc = history.history['val_accuracy']\n",
    "\n",
    "# X-axis\n",
    "epochs = range(len(acc))\n",
    "\n",
    "# Set plot parameters\n",
    "plt.plot(epochs, acc, 'r', label='Training accuracy')\n",
    "plt.plot(epochs, val_acc, 'b', label='Validation accuracy')\n",
    "plt.title('Training and validation accuracy')\n",
    "plt.legend(loc=0)\n",
    "plt.figure()\n",
    "\n",
    "# Display plot\n",
    "plt.show()"
   ]
  },
  {
   "cell_type": "code",
   "execution_count": 6,
   "metadata": {
    "colab": {
     "base_uri": "https://localhost:8080/",
     "height": 298
    },
    "colab_type": "code",
    "executionInfo": {
     "elapsed": 501754,
     "status": "ok",
     "timestamp": 1596196127399,
     "user": {
      "displayName": "Renneru Onkoi",
      "photoUrl": "https://lh3.googleusercontent.com/a-/AOh14Giee64h0enBygn5XskwcbfowYZnly_bmrAvEdcN=s64",
      "userId": "17454781918518068002"
     },
     "user_tz": -540
    },
    "id": "DSmOMDPCwecx",
    "outputId": "09fed199-c070-49c6-ad60-c316d00a420b"
   },
   "outputs": [
    {
     "data": {
      "image/png": "[encoded data removed]",
      "text/plain": [
       "<Figure size 432x288 with 1 Axes>"
      ]
     },
     "metadata": {
      "needs_background": "light"
     },
     "output_type": "display_data"
    },
    {
     "data": {
      "text/plain": [
       "<Figure size 432x288 with 0 Axes>"
      ]
     },
     "metadata": {},
     "output_type": "display_data"
    }
   ],
   "source": [
    "# Plot Training vs. Validation Loss with respect to number of epochs\n",
    "\n",
    "# Y-axis\n",
    "loss = history.history['loss']\n",
    "val_loss = history.history['val_loss']\n",
    "\n",
    "# X-axis\n",
    "epochs = range(len(loss))\n",
    "\n",
    "# Set plot parameters\n",
    "plt.plot(epochs, loss, 'r', label='Training loss')\n",
    "plt.plot(epochs, val_loss, 'b', label='Validation loss')\n",
    "plt.title('Training and validation loss')\n",
    "plt.legend(loc=0)\n",
    "plt.figure()\n",
    "\n",
    "# Display plot\n",
    "plt.show()"
   ]
  },
  {
   "cell_type": "code",
   "execution_count": 7,
   "metadata": {
    "colab": {
     "base_uri": "https://localhost:8080/",
     "height": 85
    },
    "colab_type": "code",
    "executionInfo": {
     "elapsed": 502238,
     "status": "ok",
     "timestamp": 1596196127901,
     "user": {
      "displayName": "Renneru Onkoi",
      "photoUrl": "https://lh3.googleusercontent.com/a-/AOh14Giee64h0enBygn5XskwcbfowYZnly_bmrAvEdcN=s64",
      "userId": "17454781918518068002"
     },
     "user_tz": -540
    },
    "id": "o5O5AiYaTVUV",
    "outputId": "fe7585db-2086-4e6e-9691-bd5072eacf91"
   },
   "outputs": [
    {
     "name": "stdout",
     "output_type": "stream",
     "text": [
      "[[1. 0. 0.]]\n",
      "[[0. 1. 0.]]\n",
      "[[0. 0. 1.]]\n"
     ]
    }
   ],
   "source": [
    "# Import Numpy\n",
    "import numpy as np\n",
    "print(\"numpy.__version__ = \" + np.__version__)\n",
    "\n",
    "# Load model\n",
    "loaded_model = tf.keras.models.load_model(model_h5)\n",
    "\n",
    "# Predicting black pieces\n",
    "img = image.load_img(\"/tf/zugzwang/model/validation_set/black/1-2-1.jpg\", target_size=(50, 50))\n",
    "x = image.img_to_array(img)\n",
    "x = np.expand_dims(x, axis=0)\n",
    "new_input = np.vstack([x])\n",
    "prediction = np.round(loaded_model.predict(new_input))\n",
    "print(prediction) # [[1. 0. 0.]]\n",
    "\n",
    "# Predicting empty pieces\n",
    "img = image.load_img(\"/tf/zugzwang/model/validation_set/none/46-2-2.jpg\", target_size=(50, 50))\n",
    "x = image.img_to_array(img)\n",
    "x = np.expand_dims(x, axis=0)\n",
    "new_input = np.vstack([x])\n",
    "prediction = np.round(loaded_model.predict(new_input))\n",
    "print(prediction) # [[0. 1. 0.]]\n",
    "\n",
    "# Predicting white pieces\n",
    "img = image.load_img(\"/tf/zugzwang/model/validation_set/white/1-2-6.jpg\", target_size=(50, 50))\n",
    "x = image.img_to_array(img)\n",
    "x = np.expand_dims(x, axis=0)\n",
    "new_input = np.vstack([x])\n",
    "prediction = np.round(loaded_model.predict(new_input))\n",
    "print(prediction) # [[0. 0. 1.]]"
   ]
  },
  {
   "cell_type": "code",
   "execution_count": null,
   "metadata": {
    "colab": {},
    "colab_type": "code",
    "executionInfo": {
     "elapsed": 502231,
     "status": "ok",
     "timestamp": 1596196127904,
     "user": {
      "displayName": "Renneru Onkoi",
      "photoUrl": "https://lh3.googleusercontent.com/a-/AOh14Giee64h0enBygn5XskwcbfowYZnly_bmrAvEdcN=s64",
      "userId": "17454781918518068002"
     },
     "user_tz": -540
    },
    "id": "QYGR0bWcUGEG"
   },
   "outputs": [],
   "source": []
  }
 ],
 "metadata": {
  "colab": {
   "authorship_tag": "ABX9TyOfpxxh+M/DGSEWaOKRBUqy",
   "collapsed_sections": [],
   "name": "fit_model.ipynb",
   "provenance": []
  },
  "kernelspec": {
   "display_name": "Python 3",
   "language": "python",
   "name": "python3"
  },
  "language_info": {
   "codemirror_mode": {
    "name": "ipython",
    "version": 3
   },
   "file_extension": ".py",
   "mimetype": "text/x-python",
   "name": "python",
   "nbconvert_exporter": "python",
   "pygments_lexer": "ipython3",
   "version": "3.6.9"
  }
 },
 "nbformat": 4,
 "nbformat_minor": 1
}
